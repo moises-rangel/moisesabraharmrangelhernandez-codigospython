{
 "cells": [
  {
   "cell_type": "code",
   "execution_count": 12,
   "id": "03bac1f7",
   "metadata": {},
   "outputs": [
    {
     "name": "stdout",
     "output_type": "stream",
     "text": [
      "   //\\ \n",
      "  //__\\ \n",
      "  ||  | |\n",
      "  ||__| |\n"
     ]
    }
   ],
   "source": [
    "print(r'   //\\ ')\n",
    "print(r'  //__\\ ')\n",
    "print(\"  ||  | |\")\n",
    "print(\"  ||__| |\")\n"
   ]
  },
  {
   "cell_type": "code",
   "execution_count": 4,
   "id": "0d8a4cf7",
   "metadata": {},
   "outputs": [
    {
     "name": "stdout",
     "output_type": "stream",
     "text": [
      "ingresa tu nombre: moises\n",
      "ingresa tu numero telefonico: 5513142596\n",
      "ingresa tu correo electronico: moisesrangelhdz@gmail.com\n",
      "bienvenido al sistema usuario: moises con numero asociado: 5513142596 y correo: moisesrangelhdz@gmail.com\n"
     ]
    }
   ],
   "source": [
    "nombre = input(\"ingresa tu nombre: \")\n",
    "telefono = input(\"ingresa tu numero telefonico: \")\n",
    "correo = input (\"ingresa tu correo electronico: \")\n",
    "print (\"bienvenido al sistema usuario: \"+ nombre +\" con numero asociado: \" + telefono +\" y correo: \"+ correo)"
   ]
  },
  {
   "cell_type": "code",
   "execution_count": 16,
   "id": "535b22ef",
   "metadata": {},
   "outputs": [
    {
     "name": "stdout",
     "output_type": "stream",
     "text": [
      "agrega el valor de la resistencia numero 1: 120\n",
      "agrega el valor de la resistencia numero 2: 5\n",
      "resistencia total es: 4.8\n"
     ]
    }
   ],
   "source": [
    "res1 = float(input(\"agrega el valor de la resistencia numero 1: \"))\n",
    "rest = float(input(\"agrega el valor de la resistencia numero 2: \"))\n",
    "rt=(res1*rest)/(res1+rest)\n",
    "print(\"resistencia total es: \"+ str(rt))\n"
   ]
  },
  {
   "cell_type": "code",
   "execution_count": 2,
   "id": "0d629eb4",
   "metadata": {},
   "outputs": [
    {
     "name": "stdout",
     "output_type": "stream",
     "text": [
      "agregue el valor de la variable cuadratica: 5\n",
      "agrega el valor de la variable lineal: 3\n",
      "agrega el valor independiente: -2\n",
      "x1=0.4\n",
      "x2=-1.0\n"
     ]
    }
   ],
   "source": [
    "from math import sqrt\n",
    "x=float(input(\"agregue el valor de la variable cuadratica: \"))\n",
    "y=float(input(\"agrega el valor de la variable lineal: \"))\n",
    "z=float(input(\"agrega el valor independiente: \"))\n",
    "resul=(-y + sqrt(y**2-(4*x*z)))/(2*x)\n",
    "resultado=(-y - sqrt(y**2-(4*x*z)))/(2*x)\n",
    "print(\"x1=\" + str(resul))\n",
    "print(\"x2=\" + str(resultado))"
   ]
  },
  {
   "cell_type": "code",
   "execution_count": 22,
   "id": "95798ee8",
   "metadata": {},
   "outputs": [
    {
     "name": "stdout",
     "output_type": "stream",
     "text": [
      "fila 0, columna 0 : 4\n",
      "fila 0, columna 1 : 1\n",
      "fila 1, columna 0 : 6\n",
      "fila 1, columna 1 : 2\n",
      "2.0\n"
     ]
    }
   ],
   "source": [
    "matriz=[]\n",
    "filas =2\n",
    "columnas =2\n",
    "for i in range(filas):\n",
    "    matriz.append([])\n",
    "    for j in range(columnas):\n",
    "        valor=float(input(\"fila {}, columna {} : \".format(i,j)))\n",
    "        matriz[i].append(valor)\n",
    "det=(matriz[0][0]* matriz[1][1])-(matriz[0][1]*matriz[1][0])\n",
    "print(det)\n",
    "\n",
    "        "
   ]
  },
  {
   "cell_type": "code",
   "execution_count": 7,
   "id": "a6671d5e",
   "metadata": {},
   "outputs": [
    {
     "name": "stdout",
     "output_type": "stream",
     "text": [
      "ingresa un numero:-5\n",
      "el dato es negativo\n"
     ]
    }
   ],
   "source": [
    "dato = input(\"ingresa un numero:\")\n",
    "dato = int(dato)\n",
    "if dato > 1:\n",
    "    print(\"el numero es positivo\")\n",
    "elif dato == 0:\n",
    "    print(\"el numero es cero\")\n",
    "elif dato < 0:\n",
    "    print(\"el dato es negativo\")\n",
    "    "
   ]
  },
  {
   "cell_type": "code",
   "execution_count": 14,
   "id": "95324fe2",
   "metadata": {},
   "outputs": [
    {
     "name": "stdout",
     "output_type": "stream",
     "text": [
      "ingresa tu nombre: moises\n",
      "ingresa tu edad: 18\n",
      "de cuento es tu ingreso mensual: 1500\n",
      "cuanto es tu egreso mensual: 1000\n",
      "cuanto deseas que se te preste: 100\n",
      "en cuantos meses lo pagarias en '3,6,9,12,24': 3\n",
      "felicidades moises tu prestamo de 100 fue autorizado con una cuota de 33.333333333333336\n"
     ]
    }
   ],
   "source": [
    "nombre= input(\"ingresa tu nombre: \")\n",
    "edad= int(input(\"ingresa tu edad: \"))\n",
    "ingreso= int(input(\"de cuento es tu ingreso mensual: \"))\n",
    "egreso= int(input(\"cuanto es tu egreso mensual: \"))\n",
    "prestamo= int(input(\"cuanto deseas que se te preste: \"))\n",
    "meses= int(input(\"en cuantos meses lo pagarias en '3,6,9,12,24': \"))\n",
    "cuota= prestamo/meses\n",
    "resul=ingreso-egreso\n",
    "if edad<=17:\n",
    "    print(\"lo sentimos no cumples con la edad minima para el prestamo\")\n",
    "    print(edad)\n",
    "elif ingreso < egreso:\n",
    "    print(\"lo sentimos no cumples con los ingresos para el prestamo\")\n",
    "elif cuota>resul:\n",
    "    print(\"lo sentimos no cumples con los ingresos para la cuota del prestamo\")\n",
    "    print(cuota)\n",
    "else:\n",
    "    print(\"felicidades \"+ nombre + \" tu prestamo de \" + str(prestamo)+ \" fue autorizado con una cuota de \" + str(cuota) )\n",
    "\n"
   ]
  },
  {
   "cell_type": "code",
   "execution_count": 50,
   "id": "86a14e36",
   "metadata": {},
   "outputs": [
    {
     "name": "stdout",
     "output_type": "stream",
     "text": [
      "*  \n",
      "*  *  \n",
      "*  *  *  \n",
      "*  *  *  *  \n",
      "*  *  *  *  *  \n",
      "*  *  *  *  \n",
      "*  *  *  \n",
      "*  *  \n",
      "*  \n",
      "\n"
     ]
    }
   ],
   "source": [
    "lineas = 5\n",
    "for nlineas in range(lineas):\n",
    "    espacios= lineas-nlineas-1\n",
    "    asteriscos= 1 + nlineas * 1\n",
    "    print(\"\"*espacios+\"*  \"*asteriscos)\n",
    "    if asteriscos == 5:\n",
    "        espacios=0\n",
    "        asteriscos=5\n",
    "        for nlineas in range(lineas):\n",
    "            espacios=espacios+1\n",
    "            asteriscos = asteriscos-1\n",
    "            print(\"\"*espacios+\"*  \"*asteriscos)\n",
    "           "
   ]
  },
  {
   "cell_type": "code",
   "execution_count": 57,
   "id": "aada79b2",
   "metadata": {},
   "outputs": [
    {
     "name": "stdout",
     "output_type": "stream",
     "text": [
      "0\n",
      "1\n",
      "2\n",
      "4\n",
      "5\n"
     ]
    }
   ],
   "source": [
    "print(\"0\")\n",
    "for i in range(7):\n",
    "    if i % 3:\n",
    "        if i !=0:\n",
    "            print(i)\n",
    "        "
   ]
  },
  {
   "cell_type": "code",
   "execution_count": 51,
   "id": "77debf32",
   "metadata": {},
   "outputs": [
    {
     "name": "stdout",
     "output_type": "stream",
     "text": [
      "ingresa la palabra:sistemas\n",
      "sametsis\n"
     ]
    }
   ],
   "source": [
    "palabra=input(\"ingresa la palabra:\")\n",
    "rev=\"\"\n",
    "for i in palabra:\n",
    "    rev = i + rev\n",
    "print(rev)"
   ]
  },
  {
   "cell_type": "code",
   "execution_count": null,
   "id": "fab3934e",
   "metadata": {},
   "outputs": [],
   "source": []
  }
 ],
 "metadata": {
  "kernelspec": {
   "display_name": "Python 3 (ipykernel)",
   "language": "python",
   "name": "python3"
  },
  "language_info": {
   "codemirror_mode": {
    "name": "ipython",
    "version": 3
   },
   "file_extension": ".py",
   "mimetype": "text/x-python",
   "name": "python",
   "nbconvert_exporter": "python",
   "pygments_lexer": "ipython3",
   "version": "3.9.7"
  }
 },
 "nbformat": 4,
 "nbformat_minor": 5
}
